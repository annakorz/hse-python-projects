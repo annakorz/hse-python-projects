{
 "cells": [
  {
   "cell_type": "code",
   "execution_count": null,
   "metadata": {},
   "outputs": [],
   "source": []
  },
  {
   "cell_type": "markdown",
   "metadata": {
    "colab_type": "text",
    "id": "ylixGHVOvAqB"
   },
   "source": [
    "## Classwork\n",
    "\n",
    "*Сделайте одну задачу на выбор. Выполнение больше одной приветствуется*"
   ]
  },
  {
   "cell_type": "markdown",
   "metadata": {
    "colab_type": "text",
    "id": "WbpgWXdHvgV8"
   },
   "source": [
    "**Задача 1.**  Напишите генератор названий компаний (почти как генератор паролей). \n",
    "Пусть в названии компании будет 6 частей, рандомно выбирающихся из списка names.\n",
    "\n",
    "Сделайте это функцией"
   ]
  },
  {
   "cell_type": "code",
   "execution_count": null,
   "metadata": {
    "colab": {
     "base_uri": "https://localhost:8080/",
     "height": 34
    },
    "colab_type": "code",
    "id": "lIwa6cOqvcTs",
    "outputId": "9ab23b6b-f4ce-4597-ec6c-88c3f1d29ff8"
   },
   "outputs": [],
   "source": [
    "# генератор названий компаний\n",
    "\n",
    "import random\n",
    "\n",
    "names = [\"пром\",\"агро\",\"торг\",\"урал\",\"север\",\"юг\",\"техно\",\n",
    "\"экспо\",\"метал\",\"нефть\",\"сельхоз\",\"фарм\",\"строй\",\n",
    "\"кредит\",\"алмаз\",\"-девелопмент\",\"развитие\",\"мос\",\n",
    "\"рос\",\"кубань\",\"сибирь\",\"восток\",\"нано\",\"софт\",\n",
    "\"микро\",\"онлайн\",\"инвест\",\"текстиль\",\"цемент\"]\n",
    "\n",
    "# Ваш код ниже\n",
    "def company_name_generator(seq):\n",
    "    '''Function takes in a sequence and returns a random name of a company'''\n",
    "    companies = random.sample(seq,6)\n",
    "    new_companies = []\n",
    "    for c in companies:\n",
    "        c = c.capitalize()\n",
    "        new_companies.append(c)\n",
    "    return \"\".join(new_companies)\n",
    "\n",
    "print(company_name_generator(names))\n"
   ]
  },
  {
   "cell_type": "markdown",
   "metadata": {},
   "source": [
    "**Задача 2.** Генератор паролей\n",
    "\n",
    "Пароли, получаемые в результате, должны удовлетворять следующим условиям: \n",
    "     - в пароле есть 3 заглавные буквы (любые, в любом месте пароля)\n",
    "     - в пароле есть 4 цифры (любые, в любом месте)\n",
    "     - оставшиеся символы пароля - строчные латинские буквы\n",
    "     \n",
    "Создайте функцию, которая генерирует пароли, пользователь задает число символов в пароле (как аргумент функции)"
   ]
  },
  {
   "cell_type": "code",
   "execution_count": null,
   "metadata": {
    "colab": {},
    "colab_type": "code",
    "id": "Mm3FYaIJ99GJ"
   },
   "outputs": [],
   "source": [
    "import random\n",
    "import string\n",
    "\n",
    "def password_setup(num,num_cap_letters = 3,num_digits = 4):\n",
    "    '''Function takes in a number and returns a generated password that must consist of 3 capital letters, 4 numbers and any number of other lowercase letters'''\n",
    "    # random.sample(seq, num of elements to be picked) returns a list of unique elements vs. random.choice(seq) returns a list of random elements (i.e. elements can be repeated)\n",
    "    capital_letters = random.sample(string.ascii_uppercase, num_cap_letters)\n",
    "    numbers = random.sample(string.digits,num_digits)\n",
    "    lowercase_letters = [random.choice(string.ascii_lowercase) for x in range(num+1-num_cap_letters-num_digits)]\n",
    "    symbols = numbers + lowercase_letters + capital_letters\n",
    "    password = \"\".join(random.sample(symbols, len(symbols)))\n",
    "\n",
    "    return password\n",
    "\n",
    "print(password_setup(11))"
   ]
  }
 ],
 "metadata": {
  "interpreter": {
   "hash": "31f2aee4e71d21fbe5cf8b01ff0e069b9275f58929596ceb00d14d90e3e16cd6"
  },
  "kernelspec": {
   "display_name": "Python 3.7.3 64-bit",
   "name": "python3"
  },
  "language_info": {
   "name": "python",
   "version": ""
  }
 },
 "nbformat": 4,
 "nbformat_minor": 4
}