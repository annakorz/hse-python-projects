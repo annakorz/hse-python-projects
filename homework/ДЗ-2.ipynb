{
 "cells": [
  {
   "cell_type": "markdown",
   "id": "d1c933ad-9f22-4881-b511-316a06b2d28c",
   "metadata": {},
   "source": [
    "## Работа с файлами, pandas + парсинг"
   ]
  },
  {
   "cell_type": "markdown",
   "id": "48fba6f4-7e82-4623-a85e-487a173967c9",
   "metadata": {},
   "source": [
    "Давайте соберем корпус эко-новостей с сайта новостного издания \"Ведомости\". \n",
    "\n",
    "[По этой ссылке можно найти главную страницу](https://www.vedomosti.ru/ecology?utm_source=vedomosti.ru%2Fgorod&utm_medium=main&utm_campaign=desktop_main\n",
    ")\n",
    "\n",
    "Что нам предстоит сделать:\n",
    "- достать все заголовки новостей в главной страницы + текст каждой новости\n",
    "- сохранить в датафрейм с колонками \"источник\", \"дата\", \"заголовок\", \"текст\"\n",
    "\n",
    "- сохранить датафрейм в файл\n",
    "- положить код и получившийся файл в свой репозиторий на гитхабе\n",
    "\n"
   ]
  },
  {
   "cell_type": "code",
   "execution_count": 138,
   "id": "7926e4e3-8359-41f6-8dfb-39b2c194d66a",
   "metadata": {},
   "outputs": [],
   "source": [
    "import requests as rq\n",
    "from bs4 import BeautifulSoup\n",
    "import pandas as pd"
   ]
  },
  {
   "cell_type": "code",
   "execution_count": 139,
   "id": "dd2e1465",
   "metadata": {},
   "outputs": [],
   "source": [
    "# Saving links to all the articles from the main page into a list\n",
    "article_links = [\"https://www.vedomosti.ru/ecology/articles/2021/09/01/884770-esg-perevode-russkii\", \"https://www.vedomosti.ru/ecology/articles/2021/09/01/884775-promishlennost-uglerodnii\", \"https://www.vedomosti.ru/ecology/articles/2021/09/01/884776-esg-igri\", \"https://www.vedomosti.ru/ecology/articles/2021/09/02/884778-dengi-zelenih-tonah\", \"https://www.vedomosti.ru/ecology/articles/2021/09/02/884779-premialnaya-bezuglerodnost\", \"https://www.vedomosti.ru/ecology/articles/2021/09/02/884777-zelenii-sbera\", \"https://www.vedomosti.ru/ecology/articles/2021/06/02/872600-zelenaya-beskonechnaya\", \"https://www.vedomosti.ru/ecology/characters/2021/06/02/872605-sergei-chikalov\", \"https://www.vedomosti.ru/ecology/articles/2021/06/02/872606-dishat-grudyu\", \"https://www.vedomosti.ru/ecology/articles/2021/06/03/872610-deistvitelnoe-zhelaemoe\", \"https://www.vedomosti.ru/ecology/articles/2021/06/03/872611-territoriya-zelenogo\", \"https://www.vedomosti.ru/ecology/articles/2021/06/02/872608-uberi-soboi\", \"https://www.vedomosti.ru/ecology/articles/2021/06/03/872612-zelenie-investitsii\"]"
   ]
  },
  {
   "cell_type": "code",
   "execution_count": 140,
   "id": "ec5b2120",
   "metadata": {},
   "outputs": [],
   "source": [
    "def article_info_extraction(url_list):\n",
    "    \"\"\"The function takes in a list of urls and returns a dictionary with extracted data\"\"\"\n",
    "    data = {}\n",
    "    idx = 0\n",
    "    for url in url_list:\n",
    "        page = rq.get(url)\n",
    "        soup = BeautifulSoup(page.text, 'html.parser')\n",
    "        date_tag = soup.find_all('time', {\"class\":\"article-meta__date\"})[0].text\n",
    "        date_tag = date_tag.split(',')[0] # deleting time info\n",
    "        title_tag = soup.find_all('h1', {\"class\":\"article-headline__title\"})[0].text\n",
    "        title_tag = title_tag.strip() # deleting newlines on both sides of the title \n",
    "        article_text = soup.find_all(\"div\", {\"class\":\"article-boxes-list article__boxes\"})[0].text\n",
    "        data[idx] = []\n",
    "        data[idx].extend([url, date_tag, title_tag, article_text]) \n",
    "        idx += 1\n",
    "    \n",
    "    return data\n"
   ]
  },
  {
   "cell_type": "code",
   "execution_count": 141,
   "id": "81228f12",
   "metadata": {},
   "outputs": [],
   "source": [
    "ecology_data = article_info_extraction(article_links)"
   ]
  },
  {
   "cell_type": "code",
   "execution_count": null,
   "id": "f2db2593",
   "metadata": {},
   "outputs": [],
   "source": [
    "# Creating a dataframe with the extracted data\n",
    "articles = pd.DataFrame.from_dict(ecology_data, orient=\"index\",columns=[\"источник\",\"дата\",\"заголовок\",\"текст\"])\n",
    "display(articles)"
   ]
  },
  {
   "cell_type": "code",
   "execution_count": 147,
   "id": "6af62509",
   "metadata": {},
   "outputs": [],
   "source": [
    "# Saving data to a csv-file with encoding \"utf-8-sig\" to recognize Russian text\n",
    "articles.to_csv('eco_news.csv', encoding=\"utf-8-sig\") "
   ]
  }
 ],
 "metadata": {
  "kernelspec": {
   "display_name": "Python 3 (ipykernel)",
   "language": "python",
   "name": "python3"
  },
  "language_info": {
   "codemirror_mode": {
    "name": "ipython",
    "version": 3
   },
   "file_extension": ".py",
   "mimetype": "text/x-python",
   "name": "python",
   "nbconvert_exporter": "python",
   "pygments_lexer": "ipython3",
   "version": "3.8.1"
  }
 },
 "nbformat": 4,
 "nbformat_minor": 5
}
